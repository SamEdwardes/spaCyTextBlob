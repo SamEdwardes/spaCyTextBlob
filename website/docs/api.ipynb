{
 "cells": [
  {
   "cell_type": "raw",
   "metadata": {},
   "source": [
    "---\n",
    "id: api\n",
    "title: API Reference\n",
    "---"
   ]
  },
  {
   "cell_type": "markdown",
   "metadata": {},
   "source": [
    "To make the usage simpler spacy provides custom extensions which a library can use. This makes it easier for the user to get the desired data. The below tables summaries the extensions."
   ]
  },
  {
   "cell_type": "markdown",
   "metadata": {},
   "source": [
    "## `spacy.Doc` extensions\n",
    "\n",
    "\n",
    "| Extension | Type | Description | Default |\n",
    "|-----------|------|-------------|---------|\n",
    "| token._.polarity | `Float` | The polarity of the token. The polarity score is a float within the range [-1.0, 1.0]. | `None` |\n",
    "| token._.sujectivity | `Float` | The subjectivity of the token. The subjectivity is a float within the range [0.0, 1.0] where 0.0 is very objective and 1.0 is very subjective. | `None` |\n",
    "| token._.assessments | `tuple` | Return a tuple of form (polarity, subjectivity, assessments ) where polarity is a float within the range [-1.0, 1.0], subjectivity is a float within the range [0.0, 1.0] where 0.0 is very objective and 1.0 is very subjective, and assessments is a list of polarity and subjectivity scores for the assessed tokens. | `None` |\n",
    "\n",
    "\n",
    "## `spacy.Span` extensions\n",
    "\n",
    "\n",
    "| Extension | Type | Description | Default |\n",
    "|-----------|------|-------------|---------|\n",
    "| token._.polarity | `Float` | The polarity of the token. The polarity score is a float within the range [-1.0, 1.0]. | `None` |\n",
    "| token._.sujectivity | `Float` | The subjectivity of the token. The subjectivity is a float within the range [0.0, 1.0] where 0.0 is very objective and 1.0 is very subjective. | `None` |\n",
    "| token._.assessments | `tuple` | Return a tuple of form (polarity, subjectivity, assessments ) where polarity is a float within the range [-1.0, 1.0], subjectivity is a float within the range [0.0, 1.0] where 0.0 is very objective and 1.0 is very subjective, and assessments is a list of polarity and subjectivity scores for the assessed tokens. | `None` |\n",
    "\n",
    "\n",
    "\n",
    "## `spacy.Token` extensions\n",
    "\n",
    "\n",
    "| Extension | Type | Description | Default |\n",
    "|-----------|------|-------------|---------|\n",
    "| token._.polarity | `Float` | The polarity of the token. The polarity score is a float within the range [-1.0, 1.0]. | `None` |\n",
    "| token._.sujectivity | `Float` | The subjectivity of the token. The subjectivity is a float within the range [0.0, 1.0] where 0.0 is very objective and 1.0 is very subjective. | `None` |\n",
    "| token._.assessments | `tuple` | Return a tuple of form (polarity, subjectivity, assessments ) where polarity is a float within the range [-1.0, 1.0], subjectivity is a float within the range [0.0, 1.0] where 0.0 is very objective and 1.0 is very subjective, and assessments is a list of polarity and subjectivity scores for the assessed tokens. | `None` |\n"
   ]
  }
 ],
 "metadata": {
  "kernelspec": {
   "display_name": "Python 3",
   "language": "python",
   "name": "python3"
  },
  "language_info": {
   "codemirror_mode": {
    "name": "ipython",
    "version": 3
   },
   "file_extension": ".py",
   "mimetype": "text/x-python",
   "name": "python",
   "nbconvert_exporter": "python",
   "pygments_lexer": "ipython3",
   "version": "3.9.1"
  }
 },
 "nbformat": 4,
 "nbformat_minor": 4
}