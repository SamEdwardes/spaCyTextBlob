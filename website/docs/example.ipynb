{
 "cells": [
  {
   "cell_type": "raw",
   "metadata": {},
   "source": [
    "---\n",
    "id: example\n",
    "title: Examples\n",
    "---"
   ]
  },
  {
   "cell_type": "markdown",
   "metadata": {},
   "source": [
    "## Using on a single text"
   ]
  },
  {
   "cell_type": "code",
   "execution_count": 1,
   "metadata": {},
   "outputs": [],
   "source": [
    "import spacy\n",
    "from spacytextblob.spacytextblob import SpacyTextBlob\n",
    "\n",
    "nlp = spacy.load('en_core_web_sm')\n",
    "nlp.add_pipe(\"spacytextblob\")\n",
    "\n",
    "text = \"I had a really horrible day. It was the worst day ever! But every now and then I have a really good day that makes me happy.\"\n",
    "doc = nlp(text)"
   ]
  },
  {
   "cell_type": "markdown",
   "metadata": {},
   "source": [
    "You can identify the sentiment at the doc level."
   ]
  },
  {
   "cell_type": "code",
   "execution_count": 2,
   "metadata": {},
   "outputs": [
    {
     "name": "stdout",
     "output_type": "stream",
     "text": [
      "Polarity: -0.125\n"
     ]
    }
   ],
   "source": [
    "print('Polarity:', doc._.polarity)"
   ]
  },
  {
   "cell_type": "code",
   "execution_count": 3,
   "metadata": {},
   "outputs": [
    {
     "name": "stdout",
     "output_type": "stream",
     "text": [
      "Sujectivity: 0.9\n"
     ]
    }
   ],
   "source": [
    "print('Sujectivity:', doc._.subjectivity)"
   ]
  },
  {
   "cell_type": "code",
   "execution_count": 4,
   "metadata": {},
   "outputs": [
    {
     "name": "stdout",
     "output_type": "stream",
     "text": [
      "Assessments: [(['really', 'horrible'], -1.0, 1.0, None), (['worst', '!'], -1.0, 1.0, None), (['really', 'good'], 0.7, 0.6000000000000001, None), (['happy'], 0.8, 1.0, None)]\n"
     ]
    }
   ],
   "source": [
    "print('Assessments:', doc._.assessments)"
   ]
  },
  {
   "cell_type": "markdown",
   "metadata": {},
   "source": [
    "You can also identify sentiment at the sentence level"
   ]
  },
  {
   "cell_type": "code",
   "execution_count": 5,
   "metadata": {},
   "outputs": [
    {
     "name": "stdout",
     "output_type": "stream",
     "text": [
      "================================================================\n",
      "Polarity: -1.0\n",
      "Sujectivity: 1.0\n",
      "Assessments: [(['really', 'horrible'], -1.0, 1.0, None)]\n",
      "================================================================\n",
      "Polarity: -1.0\n",
      "Sujectivity: 1.0\n",
      "Assessments: [(['worst', '!'], -1.0, 1.0, None)]\n",
      "================================================================\n",
      "Polarity: 0.75\n",
      "Sujectivity: 0.8\n",
      "Assessments: [(['really', 'good'], 0.7, 0.6000000000000001, None), (['happy'], 0.8, 1.0, None)]\n"
     ]
    }
   ],
   "source": [
    "for sentence in doc.sents:\n",
    "    print('=' * 64)\n",
    "    print('Polarity:', sentence._.polarity)\n",
    "    print('Sujectivity:', sentence._.subjectivity)\n",
    "    print('Assessments:', sentence._.assessments)"
   ]
  },
  {
   "cell_type": "markdown",
   "metadata": {},
   "source": [
    "## Using on a multiple texts"
   ]
  },
  {
   "cell_type": "code",
   "execution_count": 6,
   "metadata": {},
   "outputs": [
    {
     "name": "stdout",
     "output_type": "stream",
     "text": [
      "================================================================\n",
      "I had a really horrible day. It was the worst day ever! But every now and then I have a really good day that makes me happy.\n",
      "Polarity: -0.125\n",
      "Sujectivity: 0.9\n",
      "Assessments: [(['really', 'horrible'], -1.0, 1.0, None), (['worst', '!'], -1.0, 1.0, None), (['really', 'good'], 0.7, 0.6000000000000001, None), (['happy'], 0.8, 1.0, None)]\n",
      "================================================================\n",
      "Wow I had just the best day ever today! I cannot wait to tell the world.\n",
      "Polarity: 0.55\n",
      "Sujectivity: 0.65\n",
      "Assessments: [(['wow'], 0.1, 1.0, None), (['best', '!'], 1.0, 0.3, None)]\n"
     ]
    }
   ],
   "source": [
    "import spacy\n",
    "from spacytextblob.spacytextblob import SpacyTextBlob\n",
    "\n",
    "nlp = spacy.load('en_core_web_sm')\n",
    "nlp.add_pipe(\"spacytextblob\")\n",
    "\n",
    "text1 = \"I had a really horrible day. It was the worst day ever! But every now and then I have a really good day that makes me happy.\"\n",
    "text2 = \"Wow I had just the best day ever today! I cannot wait to tell the world.\"\n",
    "docs = nlp.pipe([text1, text2])\n",
    "for doc in docs:\n",
    "    print('=' * 64)\n",
    "    print(doc.text)\n",
    "    print('Polarity:', doc._.polarity)\n",
    "    print('Sujectivity:', doc._.subjectivity)\n",
    "    print('Assessments:', doc._.assessments)"
   ]
  }
 ],
 "metadata": {
  "kernelspec": {
   "display_name": "Python 3",
   "language": "python",
   "name": "python3"
  },
  "language_info": {
   "codemirror_mode": {
    "name": "ipython",
    "version": 3
   },
   "file_extension": ".py",
   "mimetype": "text/x-python",
   "name": "python",
   "nbconvert_exporter": "python",
   "pygments_lexer": "ipython3",
   "version": "3.9.1"
  }
 },
 "nbformat": 4,
 "nbformat_minor": 4
}
